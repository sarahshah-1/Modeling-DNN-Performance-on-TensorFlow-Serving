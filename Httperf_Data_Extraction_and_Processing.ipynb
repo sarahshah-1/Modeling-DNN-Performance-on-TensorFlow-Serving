{
  "nbformat": 4,
  "nbformat_minor": 0,
  "metadata": {
    "colab": {
      "provenance": []
    },
    "kernelspec": {
      "name": "python3",
      "display_name": "Python 3"
    },
    "language_info": {
      "name": "python"
    }
  },
  "cells": [
    {
      "cell_type": "code",
      "metadata": {
        "id": "5h-Uktt9cJVv",
        "outputId": "2cba21f1-7183-46ee-f665-8c1c39603569",
        "colab": {
          "base_uri": "https://localhost:8080/"
        }
      },
      "source": [
        "import glob\n",
        "import csv\n",
        "import pandas as pd\n",
        "\n",
        "filenames = glob.glob('/content/*txt')\n",
        "print(filenames)"
      ],
      "execution_count": null,
      "outputs": [
        {
          "output_type": "stream",
          "name": "stdout",
          "text": [
            "['/content/20_FullC_bert_concurrent_5_min.txt', '/content/1_FullC_bert_concurrent_5_min.txt', '/content/90_FullC_bert_concurrent_5_min.txt', '/content/60_FullC_bert_concurrent_5_min.txt', '/content/30_FullC_bert_concurrent_5_min.txt', '/content/10_FullC_bert_concurrent_5_min.txt', '/content/40_FullC_bert_concurrent_5_min.txt', '/content/80_FullC_bert_concurrent_5_min.txt', '/content/100_FullC_bert_concurrent_5_min.txt', '/content/70_FullC_bert_concurrent_5_min.txt', '/content/50_FullC_bert_concurrent_5_min.txt']\n"
          ]
        }
      ]
    },
    {
      "cell_type": "code",
      "metadata": {
        "colab": {
          "base_uri": "https://localhost:8080/"
        },
        "id": "yL0RPAG-eRm9",
        "outputId": "f73a1185-b1eb-45dd-e2aa-6899ac354c6f"
      },
      "source": [
        "# extract data from output file\n",
        "# filename = \"/content/1-10urisess-mnist.txt\"\n",
        "\n",
        "column_names = ['rate','ml_model','sessions','connection rate','concurrency','connection time (min)','connection time (avg)','connection time (max)',\n",
        "                'connection time (stdev)','request rate','ms per request','reply rate (min)','reply rate (avg)','reply rate (max)',\n",
        "                'reply rate (stdev)','response_time','cores','memory','payload_instance','errors', 'error_percentage',\n",
        "                'session rate (min)','session rate (avg)','session rate (max)','session rate (stdev)','sessions connections/session',\n",
        "                'session lifetime','session failtime','session length histogram part 1','session length histogram part 2',\n",
        "                'test duration']\n",
        "\n",
        "# csv_file = open(\"Add Memory E Period Resnet Full C Twelfth Mem.csv\", \"w\")\n",
        "filename = \"BERT-12-half-double.csv\"\n",
        "csv_file = open(filename, \"w\")\n",
        "writer = csv.DictWriter(csv_file, fieldnames=column_names)\n",
        "writer.writeheader()\n",
        "\n",
        "all_reports = []\n",
        "\n",
        "for filename in filenames:\n",
        "    experiment_report = {}\n",
        "    with open(filename, 'r') as f:\n",
        "        lines = f.readlines()\n",
        "        sessions = 0       \n",
        "        for line in lines:\n",
        "            # print(line)\n",
        "            if '--period' in line:\n",
        "                experiment_report['rate'] = round(1/float(line.split('--period')[1].split('=e')[1].split()[0]))\n",
        "            if '--wsesslog' in line:\n",
        "                model_input = line.split('--wsesslog')[1].split('=')[1].split()[0].split(',')[2]\n",
        "                if 'httperf_content' in model_input:\n",
        "                     experiment_report['ml_model'] = 'mnist'\n",
        "                elif 'dbert_input' in model_input:\n",
        "                     experiment_report['ml_model'] = 'dbert'\n",
        "                elif 'bert_input' in model_input:\n",
        "                     experiment_report['ml_model'] = 'bert'\n",
        "                elif 'resnet_input' in model_input:\n",
        "                     experiment_report['ml_model'] = 'resnet'\n",
        "                sessions = int(line.split('--wsesslog')[1].split('=')[1].split()[0].split(',')[0])\n",
        "                experiment_report['sessions'] = sessions\n",
        "            if 'Connection rate:' in line:\n",
        "                experiment_report['connection rate'] = line.split('Connection rate:')[1].split()[0]\n",
        "                experiment_report['concurrency'] = line.split('Connection rate:')[1].split()[4].split('<=')[1]\n",
        "            if 'Connection time [ms]: min' in line:\n",
        "                experiment_report['connection time (min)'] = line.split('Connection time [ms]:')[1].split()[1]\n",
        "                experiment_report['connection time (avg)'] = line.split('Connection time [ms]:')[1].split()[3]\n",
        "                experiment_report['connection time (max)'] = line.split('Connection time [ms]:')[1].split()[5]\n",
        "                experiment_report['connection time (stdev)'] = line.split('Connection time [ms]:')[1].split()[7]\n",
        "            if 'Request rate:' in line:\n",
        "                experiment_report['request rate'] = line.split('Request rate:')[1].split()[0]\n",
        "                experiment_report['ms per request'] = line.split('Request rate:')[1].split()[2].split('(')[1]\n",
        "            if 'Reply rate [replies/s]:' in line:\n",
        "                experiment_report['reply rate (min)'] = line.split('Reply rate [replies/s]:')[1].split()[1]\n",
        "                experiment_report['reply rate (avg)'] = line.split('Reply rate [replies/s]:')[1].split()[3]\n",
        "                experiment_report['reply rate (max)'] = line.split('Reply rate [replies/s]:')[1].split()[5]\n",
        "                experiment_report['reply rate (stdev)'] = line.split('Reply rate [replies/s]:')[1].split()[7]\n",
        "            if 'Reply time [ms]:' in line:\n",
        "                experiment_report['response_time'] = line.split('Reply time [ms]:')[1].split()[1]\n",
        "                # experiment_report['reply time - transfer'] = line.split('Reply time [ms]:')[1].split()[3]\n",
        "            # if 'Reply status:' in line:\n",
        "            #     experiment_report['reply status'] = line.split('Reply status:')[1].split()[1].split('=')[1]\n",
        "            if 'Errors: total' in line:\n",
        "                errors = int(line.split('Errors: total')[1].split()[0])\n",
        "                experiment_report['errors'] = errors\n",
        "                experiment_report['error_percentage'] = float(errors/sessions)\n",
        "            if 'Session rate' in line:\n",
        "                experiment_report['session rate (min)'] = line.split('Session rate [sess/s]:')[1].split()[1]\n",
        "                experiment_report['session rate (avg)'] = line.split('Session rate [sess/s]:')[1].split()[3]\n",
        "                experiment_report['session rate (max)'] = line.split('Session rate [sess/s]:')[1].split()[5]\n",
        "                experiment_report['session rate (stdev)'] = line.split('Session rate [sess/s]:')[1].split()[7]\n",
        "            if 'Session:' in line:\n",
        "                experiment_report['sessions connections/session'] = line.split('Session:')[1].split()[1]\n",
        "            if 'Session lifetime' in line:\n",
        "                experiment_report['session lifetime'] = line.split('Session lifetime')[1].split()[1]\n",
        "            if 'Session failtime' in line:\n",
        "                experiment_report['session failtime'] = line.split('Session failtime')[1].split()[1]\n",
        "            # if 'Session length histogram:' in line:\n",
        "            #     experiment_report['session length histogram part 1'] = line.split('Session length histogram')[1].split()[1]\n",
        "            #     experiment_report['session length histogram part 2'] = line.split('Session length histogram')[1].split()[2]\n",
        "            if 'test-duration' in line:\n",
        "                experiment_report['test duration'] = line.split('test-duration')[1].split()[0]\n",
        "\n",
        "        all_reports.append(experiment_report)\n",
        "        print(experiment_report)\n",
        "# print(all_reports)\n",
        "for report in all_reports:\n",
        "    writer.writerow(report)\n",
        "\n",
        "csv_file.close()\n"
      ],
      "execution_count": null,
      "outputs": [
        {
          "output_type": "stream",
          "name": "stdout",
          "text": [
            "{'rate': 20, 'ml_model': 'bert', 'sessions': 1200, 'test duration': '55.476', 'connection rate': '21.6', 'concurrency': '14', 'connection time (min)': '57.8', 'connection time (avg)': '148.8', 'connection time (max)': '437.3', 'connection time (stdev)': '133.5', 'request rate': '21.6', 'ms per request': '46.2', 'reply rate (min)': '19.0', 'reply rate (avg)': '21.5', 'reply rate (max)': '26.2', 'reply rate (stdev)': '2.1', 'response_time': '148.3', 'errors': 0, 'error_percentage': 0.0, 'session rate (min)': '19.00', 'session rate (avg)': '21.63', 'session rate (max)': '26.20', 'session rate (stdev)': '2.14', 'sessions connections/session': '1.00', 'session lifetime': '0.1', 'session failtime': '0.0'}\n",
            "{'rate': 1, 'ml_model': 'bert', 'sessions': 60, 'test duration': '49.451', 'connection rate': '1.2', 'concurrency': '2', 'connection time (min)': '62.8', 'connection time (avg)': '70.2', 'connection time (max)': '175.5', 'connection time (stdev)': '67.5', 'request rate': '1.2', 'ms per request': '824.2', 'reply rate (min)': '0.4', 'reply rate (avg)': '1.2', 'reply rate (max)': '2.0', 'reply rate (stdev)': '0.6', 'response_time': '69.9', 'errors': 0, 'error_percentage': 0.0, 'session rate (min)': '0.40', 'session rate (avg)': '1.21', 'session rate (max)': '2.00', 'session rate (stdev)': '0.57', 'sessions connections/session': '1.00', 'session lifetime': '0.1', 'session failtime': '0.0'}\n",
            "{'rate': 90, 'ml_model': 'bert', 'sessions': 5400, 'test duration': '109.606', 'connection rate': '49.3', 'concurrency': '2652', 'connection time (min)': '218.5', 'connection time (avg)': '28662.9', 'connection time (max)': '81385.6', 'connection time (stdev)': '27771.5', 'request rate': '49.3', 'ms per request': '20.3', 'reply rate (min)': '22.4', 'reply rate (avg)': '49.1', 'reply rate (max)': '110.2', 'reply rate (stdev)': '21.3', 'response_time': '22011.5', 'errors': 0, 'error_percentage': 0.0, 'session rate (min)': '22.40', 'session rate (avg)': '49.27', 'session rate (max)': '110.20', 'session rate (stdev)': '21.34', 'sessions connections/session': '1.00', 'session lifetime': '28.7', 'session failtime': '0.0'}\n",
            "{'rate': 60, 'ml_model': 'bert', 'sessions': 3600, 'test duration': '76.779', 'connection rate': '46.9', 'concurrency': '872', 'connection time (min)': '122.7', 'connection time (avg)': '9744.7', 'connection time (max)': '19286.6', 'connection time (stdev)': '9423.5', 'request rate': '46.9', 'ms per request': '21.3', 'reply rate (min)': '40.0', 'reply rate (avg)': '46.6', 'reply rate (max)': '50.2', 'reply rate (stdev)': '2.8', 'response_time': '9744.1', 'errors': 0, 'error_percentage': 0.0, 'session rate (min)': '40.00', 'session rate (avg)': '46.89', 'session rate (max)': '50.20', 'session rate (stdev)': '2.82', 'sessions connections/session': '1.00', 'session lifetime': '9.7', 'session failtime': '0.0'}\n",
            "{'rate': 30, 'ml_model': 'bert', 'sessions': 1800, 'test duration': '57.236', 'connection rate': '31.4', 'concurrency': '36', 'connection time (min)': '55.9', 'connection time (avg)': '270.9', 'connection time (max)': '1218.3', 'connection time (stdev)': '236.5', 'request rate': '31.4', 'ms per request': '31.8', 'reply rate (min)': '25.8', 'reply rate (avg)': '31.3', 'reply rate (max)': '39.4', 'reply rate (stdev)': '3.9', 'response_time': '270.4', 'errors': 0, 'error_percentage': 0.0, 'session rate (min)': '25.80', 'session rate (avg)': '31.45', 'session rate (max)': '39.40', 'session rate (stdev)': '3.86', 'sessions connections/session': '1.00', 'session lifetime': '0.3', 'session failtime': '0.0'}\n",
            "{'rate': 10, 'ml_model': 'bert', 'sessions': 600, 'test duration': '57.576', 'connection rate': '10.4', 'concurrency': '7', 'connection time (min)': '61.4', 'connection time (avg)': '87.2', 'connection time (max)': '180.2', 'connection time (stdev)': '81.5', 'request rate': '10.4', 'ms per request': '96.0', 'reply rate (min)': '9.0', 'reply rate (avg)': '10.5', 'reply rate (max)': '12.2', 'reply rate (stdev)': '1.0', 'response_time': '86.8', 'errors': 0, 'error_percentage': 0.0, 'session rate (min)': '9.00', 'session rate (avg)': '10.42', 'session rate (max)': '12.20', 'session rate (stdev)': '0.96', 'sessions connections/session': '1.00', 'session lifetime': '0.1', 'session failtime': '0.0'}\n",
            "{'rate': 40, 'ml_model': 'bert', 'sessions': 2400, 'test duration': '57.983', 'connection rate': '41.4', 'concurrency': '69', 'connection time (min)': '67.0', 'connection time (avg)': '699.5', 'connection time (max)': '2347.8', 'connection time (stdev)': '453.5', 'request rate': '41.4', 'ms per request': '24.2', 'reply rate (min)': '37.4', 'reply rate (avg)': '41.1', 'reply rate (max)': '48.2', 'reply rate (stdev)': '3.4', 'response_time': '699.0', 'errors': 0, 'error_percentage': 0.0, 'session rate (min)': '37.40', 'session rate (avg)': '41.39', 'session rate (max)': '48.20', 'session rate (stdev)': '3.41', 'sessions connections/session': '1.00', 'session lifetime': '0.7', 'session failtime': '0.0'}\n",
            "{'rate': 80, 'ml_model': 'bert', 'sessions': 4800, 'test duration': '100.138', 'connection rate': '47.9', 'concurrency': '2239', 'connection time (min)': '170.2', 'connection time (avg)': '23438.5', 'connection time (max)': '60483.7', 'connection time (stdev)': '25236.5', 'request rate': '47.9', 'ms per request': '20.9', 'reply rate (min)': '19.2', 'reply rate (avg)': '47.7', 'reply rate (max)': '107.4', 'reply rate (stdev)': '18.2', 'response_time': '20244.1', 'errors': 0, 'error_percentage': 0.0, 'session rate (min)': '19.20', 'session rate (avg)': '47.93', 'session rate (max)': '107.40', 'session rate (stdev)': '18.25', 'sessions connections/session': '1.00', 'session lifetime': '23.4', 'session failtime': '0.0'}\n",
            "{'rate': 100, 'ml_model': 'bert', 'sessions': 6000, 'test duration': '121.910', 'connection rate': '49.2', 'concurrency': '3610', 'connection time (min)': '212.3', 'connection time (avg)': '36421.1', 'connection time (max)': '87612.6', 'connection time (stdev)': '33302.5', 'request rate': '49.2', 'ms per request': '20.3', 'reply rate (min)': '26.4', 'reply rate (avg)': '48.7', 'reply rate (max)': '95.0', 'reply rate (stdev)': '17.3', 'response_time': '23708.2', 'errors': 31, 'error_percentage': 0.005166666666666667, 'session rate (min)': '26.40', 'session rate (avg)': '48.96', 'session rate (max)': '95.00', 'session rate (stdev)': '17.29', 'sessions connections/session': '1.00', 'session lifetime': '36.4', 'session failtime': '24.5'}\n",
            "{'rate': 70, 'ml_model': 'bert', 'sessions': 4200, 'test duration': '88.818', 'connection rate': '47.3', 'concurrency': '1677', 'connection time (min)': '244.9', 'connection time (avg)': '17340.0', 'connection time (max)': '37565.4', 'connection time (stdev)': '20059.5', 'request rate': '47.3', 'ms per request': '21.1', 'reply rate (min)': '26.4', 'reply rate (avg)': '47.0', 'reply rate (max)': '99.8', 'reply rate (stdev)': '16.3', 'response_time': '16851.3', 'errors': 0, 'error_percentage': 0.0, 'session rate (min)': '26.40', 'session rate (avg)': '47.29', 'session rate (max)': '99.80', 'session rate (stdev)': '16.25', 'sessions connections/session': '1.00', 'session lifetime': '17.3', 'session failtime': '0.0'}\n",
            "{'rate': 50, 'ml_model': 'bert', 'sessions': 3000, 'test duration': '61.754', 'connection rate': '48.6', 'concurrency': '205', 'connection time (min)': '97.1', 'connection time (avg)': '2778.8', 'connection time (max)': '4809.0', 'connection time (stdev)': '2957.5', 'request rate': '48.6', 'ms per request': '20.6', 'reply rate (min)': '40.8', 'reply rate (avg)': '48.1', 'reply rate (max)': '51.4', 'reply rate (stdev)': '2.8', 'response_time': '2778.2', 'errors': 0, 'error_percentage': 0.0, 'session rate (min)': '40.80', 'session rate (avg)': '48.58', 'session rate (max)': '51.40', 'session rate (stdev)': '2.78', 'sessions connections/session': '1.00', 'session lifetime': '2.8', 'session failtime': '0.0'}\n"
          ]
        }
      ]
    },
    {
      "cell_type": "code",
      "metadata": {
        "id": "cIBSz2138he1"
      },
      "source": [
        "# #extract data from stats file\n",
        "# import pandas as pd\n",
        "# import numpy as np\n",
        "\n",
        "# df = pd.read_csv('/content/30-halfc-mnist.csv')\n",
        "# df.columns=['a','b','c','d','e','f','g']\n",
        "\n",
        "# #Time after start of experiment, connect time, reply time, transfer time, number of concurrent sessions, reply bytes, session id\n",
        "\n",
        "# #response time statistics\n",
        "# a = np.array(df.iloc[:,[2]])\n",
        "# experiment_report['median percentile connection time'] = df.iloc[:,[2]].quantile(0.5)[1] #50th percentile\n",
        "# experiment_report['90th percentile response time'] = df.iloc[:,[2]].quantile(0.9)\n",
        "# experiment_report['95th percentile response time'] = df.iloc[:,[2]].quantile(0.95)\n",
        "# experiment_report['99th percentile response time'] = df.iloc[:,[2]].quantile(0.99)\n",
        "# experiment_report['100th percentile response time'] = df.iloc[:,[2]].quantile(1)\n",
        "# experiment_report['mean percentile response time'] = df.iloc[:,[2]].mean()\n",
        "# experiment_report['max response time'] = df.iloc[:,[2]].max()\n",
        "# experiment_report['min response time'] = df.iloc[:,[2]].min()\n",
        "# experiment_report['standard deviation percentile response time'] = df.iloc[:,[2]].std()\n",
        "\n",
        "# #connection time statistics\n",
        "# experiment_report['median percentile connection time'] = df.iloc[:,[1]].quantile(0.5) #50th percentile\n",
        "# experiment_report['90th percentile connection time'] = df.iloc[:,[1]].quantile(0.9)\n",
        "# experiment_report['95th percentile connection time'] = df.iloc[:,[1]].quantile(0.95)\n",
        "# experiment_report['99th percentile connection time'] = df.iloc[:,[1]].quantile(0.99)\n",
        "# experiment_report['100th percentile connection time'] = df.iloc[:,[1]].quantile(1)\n",
        "# experiment_report['mean percentile connection time'] = df.iloc[:,[1]].mean()\n",
        "# experiment_report['max percentile connection time'] = df.iloc[:,[1]].max()\n",
        "# experiment_report['min percentile connection time'] = df.iloc[:,[1]].min()\n",
        "# experiment_report['standard deviation percentile connection time'] = df.iloc[:,[1]].std()\n",
        "\n",
        "# print(experiment_report)"
      ],
      "execution_count": null,
      "outputs": []
    }
  ]
}